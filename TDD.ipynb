{
 "cells": [
  {
   "cell_type": "markdown",
   "metadata": {},
   "source": [
    "# TDD\n",
    "### Por: Nestor Rodriguez Salgado\n",
    "## Calculadora\n",
    "### Pruebas\n",
    "La primera prueba es sobre la funcion de sumas."
   ]
  },
  {
   "cell_type": "code",
   "execution_count": 5,
   "metadata": {},
   "outputs": [],
   "source": [
    "#Pruebas de Suma\n",
    "def PruebaSuma(fSuma,ValorA,ValorB):\n",
    "    if fSuma(ValorA,'+',ValorB) == ValorB+ValorB:\n",
    "        return True\n",
    "    else:\n",
    "        return False"
   ]
  },
  {
   "cell_type": "markdown",
   "metadata": {},
   "source": [
    "Segunda prueba, Resta"
   ]
  },
  {
   "cell_type": "code",
   "execution_count": 6,
   "metadata": {},
   "outputs": [],
   "source": [
    "#Pruebas de Resta\n",
    "def PruebaResta(f,ValorA,ValorB):\n",
    "    if f(ValorA,'-',ValorB) == ValorB-ValorB:\n",
    "        return True\n",
    "    else:\n",
    "        return False"
   ]
  },
  {
   "cell_type": "markdown",
   "metadata": {},
   "source": [
    "Tercera prueba, Mulltiplicacion"
   ]
  },
  {
   "cell_type": "code",
   "execution_count": 7,
   "metadata": {},
   "outputs": [],
   "source": [
    "#Pruebas de Multiplicacion\n",
    "def PruebaMultiplicacion(f,ValorA,ValorB):\n",
    "    if f(ValorA,'*',ValorB) == ValorB*ValorB:\n",
    "        return True\n",
    "    else:\n",
    "        return False"
   ]
  },
  {
   "cell_type": "markdown",
   "metadata": {},
   "source": [
    "Cuarta Prueba, Division"
   ]
  },
  {
   "cell_type": "code",
   "execution_count": 15,
   "metadata": {},
   "outputs": [],
   "source": [
    "#Pruebas de Division\n",
    "def PruebaDivision(f,ValorA,ValorB):\n",
    "    if f(ValorA,'/',ValorB) == ValorA/ValorB:\n",
    "        return True\n",
    "    else:\n",
    "        return False"
   ]
  },
  {
   "cell_type": "markdown",
   "metadata": {},
   "source": [
    "Primera Ejecucion"
   ]
  },
  {
   "cell_type": "code",
   "execution_count": 9,
   "metadata": {},
   "outputs": [
    {
     "ename": "NameError",
     "evalue": "name 'Calculadora' is not defined",
     "output_type": "error",
     "traceback": [
      "\u001b[1;31m---------------------------------------------------------------------------\u001b[0m",
      "\u001b[1;31mNameError\u001b[0m                                 Traceback (most recent call last)",
      "\u001b[1;32m~\\AppData\\Local\\Temp/ipykernel_16828/2401093290.py\u001b[0m in \u001b[0;36m<module>\u001b[1;34m\u001b[0m\n\u001b[1;32m----> 1\u001b[1;33m \u001b[0mprint\u001b[0m\u001b[1;33m(\u001b[0m\u001b[0mPruebaSuma\u001b[0m\u001b[1;33m(\u001b[0m\u001b[0mCalculadora\u001b[0m\u001b[1;33m,\u001b[0m\u001b[1;36m1\u001b[0m\u001b[1;33m,\u001b[0m\u001b[1;36m1\u001b[0m\u001b[1;33m)\u001b[0m\u001b[1;33m)\u001b[0m\u001b[1;33m\u001b[0m\u001b[1;33m\u001b[0m\u001b[0m\n\u001b[0m\u001b[0;32m      2\u001b[0m \u001b[0mprint\u001b[0m\u001b[1;33m(\u001b[0m\u001b[0mPruebaResta\u001b[0m\u001b[1;33m(\u001b[0m\u001b[0mCalculadora\u001b[0m\u001b[1;33m,\u001b[0m\u001b[1;36m1\u001b[0m\u001b[1;33m,\u001b[0m\u001b[1;36m1\u001b[0m\u001b[1;33m)\u001b[0m\u001b[1;33m)\u001b[0m\u001b[1;33m\u001b[0m\u001b[1;33m\u001b[0m\u001b[0m\n\u001b[0;32m      3\u001b[0m \u001b[0mprint\u001b[0m\u001b[1;33m(\u001b[0m\u001b[0mPruebaMultiplicacion\u001b[0m\u001b[1;33m(\u001b[0m\u001b[0mCalculadora\u001b[0m\u001b[1;33m,\u001b[0m\u001b[1;36m2\u001b[0m\u001b[1;33m,\u001b[0m\u001b[1;36m2\u001b[0m\u001b[1;33m)\u001b[0m\u001b[1;33m)\u001b[0m\u001b[1;33m\u001b[0m\u001b[1;33m\u001b[0m\u001b[0m\n\u001b[0;32m      4\u001b[0m \u001b[0mprint\u001b[0m\u001b[1;33m(\u001b[0m\u001b[0mPruebaDivision\u001b[0m\u001b[1;33m(\u001b[0m\u001b[0mCalculadora\u001b[0m\u001b[1;33m,\u001b[0m\u001b[1;36m1\u001b[0m\u001b[1;33m,\u001b[0m\u001b[1;36m2\u001b[0m\u001b[1;33m)\u001b[0m\u001b[1;33m)\u001b[0m\u001b[1;33m\u001b[0m\u001b[1;33m\u001b[0m\u001b[0m\n",
      "\u001b[1;31mNameError\u001b[0m: name 'Calculadora' is not defined"
     ]
    }
   ],
   "source": [
    "print(PruebaSuma(Calculadora,1,1))\n",
    "print(PruebaResta(Calculadora,1,1))\n",
    "print(PruebaMultiplicacion(Calculadora,2,2))\n",
    "print(PruebaDivision(Calculadora,1,2))"
   ]
  },
  {
   "cell_type": "markdown",
   "metadata": {},
   "source": [
    "### Codigo"
   ]
  },
  {
   "cell_type": "code",
   "execution_count": 13,
   "metadata": {},
   "outputs": [],
   "source": [
    "def Suma(ValorA,ValorB):\n",
    "    return ValorA+ValorB\n",
    "\n",
    "def Resta(ValorA,ValorB):\n",
    "    return ValorA-ValorB\n",
    "\n",
    "def Multiplicacion(ValorA,ValorB):\n",
    "    return ValorA*ValorB\n",
    "\n",
    "def Division(ValorA,ValorB):\n",
    "    return ValorA/ValorB\n",
    "\n",
    "def Calculadora(ValorA,Signo,ValorB):\n",
    "    if Signo == '+':\n",
    "        return Suma(ValorA,ValorB)\n",
    "    elif Signo=='-':\n",
    "        return Resta(ValorA,ValorB)\n",
    "    elif Signo=='*':\n",
    "        return Multiplicacion(ValorA,ValorB)\n",
    "    elif Signo=='/':\n",
    "        return Division(ValorA,ValorB)\n",
    "    else:\n",
    "        return None"
   ]
  },
  {
   "cell_type": "markdown",
   "metadata": {},
   "source": [
    "### Pruebas"
   ]
  },
  {
   "cell_type": "code",
   "execution_count": 16,
   "metadata": {},
   "outputs": [
    {
     "name": "stdout",
     "output_type": "stream",
     "text": [
      "True\n",
      "True\n",
      "True\n",
      "True\n"
     ]
    }
   ],
   "source": [
    "print(PruebaSuma(Calculadora,1,1))\n",
    "print(PruebaResta(Calculadora,1,1))\n",
    "print(PruebaMultiplicacion(Calculadora,2,2))\n",
    "print(PruebaDivision(Calculadora,1,2))"
   ]
  },
  {
   "cell_type": "markdown",
   "metadata": {},
   "source": [
    "## Generado de contraseñas aleatorias\n",
    "### Pruebas\n",
    "La primera prueba es sobre Mayusculas."
   ]
  },
  {
   "cell_type": "code",
   "execution_count": 23,
   "metadata": {},
   "outputs": [],
   "source": [
    "#Prueba de Mayuscula\n",
    "def Mayuscula(f,Longi):\n",
    "    Passe=False\n",
    "    cadena = f(Longi)\n",
    "    for i in range(Longi):\n",
    "        if ord(cadena[i])<91 and ord(cadena[i])>64:\n",
    "            Passe = True\n",
    "            break;\n",
    "        else:\n",
    "            Passe = False\n",
    "    return Passe"
   ]
  },
  {
   "cell_type": "markdown",
   "metadata": {},
   "source": [
    "Segunda prueba, tiene minuscula"
   ]
  },
  {
   "cell_type": "code",
   "execution_count": 24,
   "metadata": {},
   "outputs": [],
   "source": [
    "#Prueba de Minuscula\n",
    "def Misnucula(f,Longi):\n",
    "    Passe=False\n",
    "    cadena = f(Longi)\n",
    "    for i in range(Longi):\n",
    "        if ord(cadena[i])<123 and ord(cadena[i])>96:\n",
    "            Passe=True\n",
    "            break;\n",
    "        else:\n",
    "            Passe=False\n",
    "    return Passe"
   ]
  },
  {
   "cell_type": "markdown",
   "metadata": {},
   "source": [
    "Tercera prueba, tiene numero"
   ]
  },
  {
   "cell_type": "code",
   "execution_count": 25,
   "metadata": {},
   "outputs": [],
   "source": [
    "#Prueba de Numero\n",
    "def Numero(f,Longi):\n",
    "    Passe=False\n",
    "    cadena = f(Longi)\n",
    "    for i in range(Longi):\n",
    "        if ord(cadena[i])<58 and ord(cadena[i])>47:\n",
    "            Passe=True\n",
    "            break;\n",
    "        else:\n",
    "            Passe=False\n",
    "    return Passe"
   ]
  },
  {
   "cell_type": "markdown",
   "metadata": {},
   "source": [
    "Primera ejecucion"
   ]
  },
  {
   "cell_type": "code",
   "execution_count": 26,
   "metadata": {},
   "outputs": [
    {
     "ename": "NameError",
     "evalue": "name 'ContraG' is not defined",
     "output_type": "error",
     "traceback": [
      "\u001b[1;31m---------------------------------------------------------------------------\u001b[0m",
      "\u001b[1;31mNameError\u001b[0m                                 Traceback (most recent call last)",
      "\u001b[1;32m~\\AppData\\Local\\Temp/ipykernel_16828/607278018.py\u001b[0m in \u001b[0;36m<module>\u001b[1;34m\u001b[0m\n\u001b[1;32m----> 1\u001b[1;33m \u001b[0mprint\u001b[0m\u001b[1;33m(\u001b[0m\u001b[0mMayuscula\u001b[0m\u001b[1;33m(\u001b[0m\u001b[0mContraG\u001b[0m\u001b[1;33m,\u001b[0m\u001b[1;36m6\u001b[0m\u001b[1;33m)\u001b[0m\u001b[1;33m)\u001b[0m\u001b[1;33m\u001b[0m\u001b[1;33m\u001b[0m\u001b[0m\n\u001b[0m\u001b[0;32m      2\u001b[0m \u001b[0mprint\u001b[0m\u001b[1;33m(\u001b[0m\u001b[0mMisnucula\u001b[0m\u001b[1;33m(\u001b[0m\u001b[0mContraG\u001b[0m\u001b[1;33m,\u001b[0m\u001b[1;36m6\u001b[0m\u001b[1;33m)\u001b[0m\u001b[1;33m)\u001b[0m\u001b[1;33m\u001b[0m\u001b[1;33m\u001b[0m\u001b[0m\n\u001b[0;32m      3\u001b[0m \u001b[0mprint\u001b[0m\u001b[1;33m(\u001b[0m\u001b[0mNumero\u001b[0m\u001b[1;33m(\u001b[0m\u001b[0mContraG\u001b[0m\u001b[1;33m,\u001b[0m\u001b[1;36m6\u001b[0m\u001b[1;33m)\u001b[0m\u001b[1;33m)\u001b[0m\u001b[1;33m\u001b[0m\u001b[1;33m\u001b[0m\u001b[0m\n",
      "\u001b[1;31mNameError\u001b[0m: name 'ContraG' is not defined"
     ]
    }
   ],
   "source": [
    "print(Mayuscula(ContraG,6))\n",
    "print(Misnucula(ContraG,6))\n",
    "print(Numero(ContraG,6))"
   ]
  },
  {
   "cell_type": "markdown",
   "metadata": {},
   "source": [
    "### Codigo"
   ]
  },
  {
   "cell_type": "code",
   "execution_count": 27,
   "metadata": {},
   "outputs": [],
   "source": [
    "import random\n",
    "\n",
    "def ContraG(Longi):\n",
    "    Cadena=[]\n",
    "    char=''\n",
    "    for i in range(Longi):\n",
    "        rand=random.randrange(0,3)\n",
    "        if rand==0:\n",
    "            char=chr(random.randrange(48,58))\n",
    "            Cadena.append(char)\n",
    "        elif rand==1:\n",
    "            char=chr(random.randrange(65,91))\n",
    "            Cadena.append(char)\n",
    "        elif rand==2:\n",
    "            char=chr(random.randrange(97,123))\n",
    "            Cadena.append(char)\n",
    "    return Cadena"
   ]
  },
  {
   "cell_type": "markdown",
   "metadata": {},
   "source": [
    "Segunda Prueba"
   ]
  },
  {
   "cell_type": "code",
   "execution_count": 28,
   "metadata": {},
   "outputs": [
    {
     "name": "stdout",
     "output_type": "stream",
     "text": [
      "True\n",
      "True\n",
      "True\n"
     ]
    }
   ],
   "source": [
    "print(Mayuscula(ContraG,6))\n",
    "print(Misnucula(ContraG,6))\n",
    "print(Numero(ContraG,6))"
   ]
  }
 ],
 "metadata": {
  "interpreter": {
   "hash": "c3dd025d277ad90b19bfed336f7daab837a25c539c05cfec5bab1ec7c03c03a0"
  },
  "kernelspec": {
   "display_name": "Python 3.9.7 64-bit",
   "name": "python3"
  },
  "language_info": {
   "codemirror_mode": {
    "name": "ipython",
    "version": 3
   },
   "file_extension": ".py",
   "mimetype": "text/x-python",
   "name": "python",
   "nbconvert_exporter": "python",
   "pygments_lexer": "ipython3",
   "version": "3.9.7"
  },
  "orig_nbformat": 4
 },
 "nbformat": 4,
 "nbformat_minor": 2
}
